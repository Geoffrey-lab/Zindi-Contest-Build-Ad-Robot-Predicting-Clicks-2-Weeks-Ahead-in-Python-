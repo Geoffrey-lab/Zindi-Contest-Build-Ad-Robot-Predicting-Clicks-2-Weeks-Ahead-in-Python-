{
 "cells": [
  {
   "cell_type": "markdown",
   "id": "9df10711",
   "metadata": {},
   "source": [
    "adbot"
   ]
  },
  {
   "cell_type": "code",
   "execution_count": 5,
   "id": "39a9917f",
   "metadata": {},
   "outputs": [
    {
     "name": "stdout",
     "output_type": "stream",
     "text": [
      "Model Score on Test Data: 0.970721986692287\n"
     ]
    }
   ],
   "source": [
    "import pandas as pd\n",
    "import numpy as np\n",
    "from datetime import timedelta\n",
    "from sklearn.preprocessing import LabelEncoder\n",
    "from sklearn.model_selection import train_test_split  # Added import\n",
    "from sklearn.ensemble import RandomForestRegressor\n",
    "\n",
    "# Read the data\n",
    "df = pd.read_csv(\"Train (1).csv\")\n",
    "\n",
    "# Convert 'date' column to datetime format\n",
    "df['date'] = pd.to_datetime(df['date'])\n",
    "\n",
    "# Drop unnecessary columns\n",
    "cols_to_drop = ['cost', 'conversions', 'currency', 'call_type', 'call_status', \n",
    "                'start_time', 'duration', 'end_time', 'impression_share', \n",
    "                'display_location', 'conversions_calls']\n",
    "df = df.drop(cols_to_drop, axis=1)\n",
    "df.dropna(inplace=True)\n",
    "\n",
    "# Perform one-hot encoding for the 'ad_type' column\n",
    "df_encoded = pd.get_dummies(df, columns=['ad_type'])\n",
    "\n",
    "# Ordinal encode the 'ID' column\n",
    "label_encoder = LabelEncoder()\n",
    "df_encoded['ID_encoded'] = label_encoder.fit_transform(df_encoded['ID'])\n",
    "\n",
    "# Split the data into features and target\n",
    "X = df_encoded.drop(['clicks', 'date', 'ID'], axis=1)\n",
    "y = df_encoded['clicks']\n",
    "\n",
    "# Train-test split\n",
    "X_train, X_test, y_train, y_test = train_test_split(X, y, test_size=0.2)\n",
    "\n",
    "# Train the RandomForestRegressor model\n",
    "forest = RandomForestRegressor()\n",
    "forest.fit(X_train, y_train)\n",
    "\n",
    "# Calculate the score of the model on the test set\n",
    "print(\"Model Score on Test Data:\", forest.score(X_test, y_test))\n",
    "\n"
   ]
  },
  {
   "cell_type": "code",
   "execution_count": 6,
   "id": "f97d26c4",
   "metadata": {},
   "outputs": [
    {
     "ename": "KeyError",
     "evalue": "\"['impressions', 'headline1_len', 'headline2_len', 'ad_description_len', 'ad_type_EXPANDED_DYNAMIC_SEARCH_AD', 'ad_type_EXPANDED_TEXT_AD', 'ad_type_RESPONSIVE_SEARCH_AD'] not in index\"",
     "output_type": "error",
     "traceback": [
      "\u001b[1;31m---------------------------------------------------------------------------\u001b[0m",
      "\u001b[1;31mKeyError\u001b[0m                                  Traceback (most recent call last)",
      "Cell \u001b[1;32mIn[6], line 23\u001b[0m\n\u001b[0;32m     20\u001b[0m feature_names \u001b[38;5;241m=\u001b[39m X\u001b[38;5;241m.\u001b[39mcolumns\u001b[38;5;241m.\u001b[39mtolist()\n\u001b[0;32m     22\u001b[0m \u001b[38;5;66;03m# Filter the future DataFrames to include only the relevant features\u001b[39;00m\n\u001b[1;32m---> 23\u001b[0m future_df_1_week \u001b[38;5;241m=\u001b[39m future_df_1_week[[\u001b[38;5;124m'\u001b[39m\u001b[38;5;124mID\u001b[39m\u001b[38;5;124m'\u001b[39m, \u001b[38;5;124m'\u001b[39m\u001b[38;5;124mdate\u001b[39m\u001b[38;5;124m'\u001b[39m] \u001b[38;5;241m+\u001b[39m feature_names]\n\u001b[0;32m     24\u001b[0m future_df_2_weeks \u001b[38;5;241m=\u001b[39m future_df_2_weeks[[\u001b[38;5;124m'\u001b[39m\u001b[38;5;124mID\u001b[39m\u001b[38;5;124m'\u001b[39m, \u001b[38;5;124m'\u001b[39m\u001b[38;5;124mdate\u001b[39m\u001b[38;5;124m'\u001b[39m] \u001b[38;5;241m+\u001b[39m feature_names]\n\u001b[0;32m     26\u001b[0m \u001b[38;5;66;03m# Make predictions for one and two weeks future dates\u001b[39;00m\n",
      "File \u001b[1;32m~\\AppData\\Local\\anaconda3\\Lib\\site-packages\\pandas\\core\\frame.py:3767\u001b[0m, in \u001b[0;36mDataFrame.__getitem__\u001b[1;34m(self, key)\u001b[0m\n\u001b[0;32m   3765\u001b[0m     \u001b[38;5;28;01mif\u001b[39;00m is_iterator(key):\n\u001b[0;32m   3766\u001b[0m         key \u001b[38;5;241m=\u001b[39m \u001b[38;5;28mlist\u001b[39m(key)\n\u001b[1;32m-> 3767\u001b[0m     indexer \u001b[38;5;241m=\u001b[39m \u001b[38;5;28mself\u001b[39m\u001b[38;5;241m.\u001b[39mcolumns\u001b[38;5;241m.\u001b[39m_get_indexer_strict(key, \u001b[38;5;124m\"\u001b[39m\u001b[38;5;124mcolumns\u001b[39m\u001b[38;5;124m\"\u001b[39m)[\u001b[38;5;241m1\u001b[39m]\n\u001b[0;32m   3769\u001b[0m \u001b[38;5;66;03m# take() does not accept boolean indexers\u001b[39;00m\n\u001b[0;32m   3770\u001b[0m \u001b[38;5;28;01mif\u001b[39;00m \u001b[38;5;28mgetattr\u001b[39m(indexer, \u001b[38;5;124m\"\u001b[39m\u001b[38;5;124mdtype\u001b[39m\u001b[38;5;124m\"\u001b[39m, \u001b[38;5;28;01mNone\u001b[39;00m) \u001b[38;5;241m==\u001b[39m \u001b[38;5;28mbool\u001b[39m:\n",
      "File \u001b[1;32m~\\AppData\\Local\\anaconda3\\Lib\\site-packages\\pandas\\core\\indexes\\base.py:5877\u001b[0m, in \u001b[0;36mIndex._get_indexer_strict\u001b[1;34m(self, key, axis_name)\u001b[0m\n\u001b[0;32m   5874\u001b[0m \u001b[38;5;28;01melse\u001b[39;00m:\n\u001b[0;32m   5875\u001b[0m     keyarr, indexer, new_indexer \u001b[38;5;241m=\u001b[39m \u001b[38;5;28mself\u001b[39m\u001b[38;5;241m.\u001b[39m_reindex_non_unique(keyarr)\n\u001b[1;32m-> 5877\u001b[0m \u001b[38;5;28mself\u001b[39m\u001b[38;5;241m.\u001b[39m_raise_if_missing(keyarr, indexer, axis_name)\n\u001b[0;32m   5879\u001b[0m keyarr \u001b[38;5;241m=\u001b[39m \u001b[38;5;28mself\u001b[39m\u001b[38;5;241m.\u001b[39mtake(indexer)\n\u001b[0;32m   5880\u001b[0m \u001b[38;5;28;01mif\u001b[39;00m \u001b[38;5;28misinstance\u001b[39m(key, Index):\n\u001b[0;32m   5881\u001b[0m     \u001b[38;5;66;03m# GH 42790 - Preserve name from an Index\u001b[39;00m\n",
      "File \u001b[1;32m~\\AppData\\Local\\anaconda3\\Lib\\site-packages\\pandas\\core\\indexes\\base.py:5941\u001b[0m, in \u001b[0;36mIndex._raise_if_missing\u001b[1;34m(self, key, indexer, axis_name)\u001b[0m\n\u001b[0;32m   5938\u001b[0m     \u001b[38;5;28;01mraise\u001b[39;00m \u001b[38;5;167;01mKeyError\u001b[39;00m(\u001b[38;5;124mf\u001b[39m\u001b[38;5;124m\"\u001b[39m\u001b[38;5;124mNone of [\u001b[39m\u001b[38;5;132;01m{\u001b[39;00mkey\u001b[38;5;132;01m}\u001b[39;00m\u001b[38;5;124m] are in the [\u001b[39m\u001b[38;5;132;01m{\u001b[39;00maxis_name\u001b[38;5;132;01m}\u001b[39;00m\u001b[38;5;124m]\u001b[39m\u001b[38;5;124m\"\u001b[39m)\n\u001b[0;32m   5940\u001b[0m not_found \u001b[38;5;241m=\u001b[39m \u001b[38;5;28mlist\u001b[39m(ensure_index(key)[missing_mask\u001b[38;5;241m.\u001b[39mnonzero()[\u001b[38;5;241m0\u001b[39m]]\u001b[38;5;241m.\u001b[39munique())\n\u001b[1;32m-> 5941\u001b[0m \u001b[38;5;28;01mraise\u001b[39;00m \u001b[38;5;167;01mKeyError\u001b[39;00m(\u001b[38;5;124mf\u001b[39m\u001b[38;5;124m\"\u001b[39m\u001b[38;5;132;01m{\u001b[39;00mnot_found\u001b[38;5;132;01m}\u001b[39;00m\u001b[38;5;124m not in index\u001b[39m\u001b[38;5;124m\"\u001b[39m)\n",
      "\u001b[1;31mKeyError\u001b[0m: \"['impressions', 'headline1_len', 'headline2_len', 'ad_description_len', 'ad_type_EXPANDED_DYNAMIC_SEARCH_AD', 'ad_type_EXPANDED_TEXT_AD', 'ad_type_RESPONSIVE_SEARCH_AD'] not in index\""
     ]
    }
   ],
   "source": [
    "# Generate future dates for one and two weeks ahead\n",
    "future_date_1_week = pd.Timestamp.now() + timedelta(days=7)\n",
    "future_date_2_weeks = pd.Timestamp.now() + timedelta(days=14)\n",
    "\n",
    "# Create a DataFrame for one and two weeks future dates\n",
    "future_df_1_week = pd.DataFrame({'date': [future_date_1_week] * len(unique_ids), 'ID': unique_ids})\n",
    "future_df_2_weeks = pd.DataFrame({'date': [future_date_2_weeks] * len(unique_ids), 'ID': unique_ids})\n",
    "\n",
    "\n",
    "# Filter data based on unique 'ID' values\n",
    "unique_ids = df_encoded['ID'].unique()\n",
    "future_df_1_week['ID'] = unique_ids\n",
    "future_df_2_weeks['ID'] = unique_ids\n",
    "\n",
    "# Ordinal encode the 'ID' column in future data\n",
    "future_df_1_week['ID_encoded'] = label_encoder.transform(future_df_1_week['ID'])\n",
    "future_df_2_weeks['ID_encoded'] = label_encoder.transform(future_df_2_weeks['ID'])\n",
    "\n",
    "# Get the feature names used during training\n",
    "feature_names = X.columns.tolist()\n",
    "\n",
    "# Filter the future DataFrames to include only the relevant features\n",
    "future_df_1_week = future_df_1_week[['ID', 'date'] + feature_names]\n",
    "future_df_2_weeks = future_df_2_weeks[['ID', 'date'] + feature_names]\n",
    "\n",
    "# Make predictions for one and two weeks future dates\n",
    "future_clicks_pred_1_week = forest.predict(future_df_1_week.drop(['date', 'ID'], axis=1))\n",
    "future_clicks_pred_2_weeks = forest.predict(future_df_2_weeks.drop(['date', 'ID'], axis=1))\n",
    "\n",
    "# Inverse transform the predictions\n",
    "future_clicks_pred_1_week_inv = np.exp(future_clicks_pred_1_week) - 1\n",
    "future_clicks_pred_2_weeks_inv = np.exp(future_clicks_pred_2_weeks) - 1\n",
    "\n",
    "# Display the predictions\n",
    "print(\"\\nPredicted clicks for one week ahead:\")\n",
    "print(future_clicks_pred_1_week_inv)\n",
    "\n",
    "print(\"\\nPredicted clicks for two weeks ahead:\")\n",
    "print(future_clicks_pred_2_weeks_inv)\n"
   ]
  },
  {
   "cell_type": "code",
   "execution_count": null,
   "id": "03e7c7ec",
   "metadata": {},
   "outputs": [],
   "source": []
  }
 ],
 "metadata": {
  "kernelspec": {
   "display_name": "Python 3 (ipykernel)",
   "language": "python",
   "name": "python3"
  },
  "language_info": {
   "codemirror_mode": {
    "name": "ipython",
    "version": 3
   },
   "file_extension": ".py",
   "mimetype": "text/x-python",
   "name": "python",
   "nbconvert_exporter": "python",
   "pygments_lexer": "ipython3",
   "version": "3.11.5"
  }
 },
 "nbformat": 4,
 "nbformat_minor": 5
}
